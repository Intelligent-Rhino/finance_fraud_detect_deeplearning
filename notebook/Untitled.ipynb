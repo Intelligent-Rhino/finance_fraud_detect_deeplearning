{
 "cells": [
  {
   "cell_type": "markdown",
   "id": "059e5b3c",
   "metadata": {},
   "source": [
    "# Load Package"
   ]
  },
  {
   "cell_type": "code",
   "execution_count": 1,
   "id": "ea78ce3d",
   "metadata": {},
   "outputs": [],
   "source": [
    "import os # OS module is to interact with your operating system\n",
    "# curDir = os.getcwd() #get current working directory\n",
    "# print(curDir)\n",
    "# os.mkdir('newDir') # creating new folder\n",
    "# help(os)\n",
    "root_dir ='/Users/shouzhenghuang/Desktop/finance_fraud_detect' #up direcotry\n",
    "os.chdir(root_dir) #Change the current working directory to the specified path."
   ]
  },
  {
   "cell_type": "code",
   "execution_count": null,
   "id": "fb343ac9",
   "metadata": {},
   "outputs": [],
   "source": [
    "pwd"
   ]
  },
  {
   "cell_type": "code",
   "execution_count": 2,
   "id": "99ded40e",
   "metadata": {},
   "outputs": [
    {
     "name": "stdout",
     "output_type": "stream",
     "text": [
      "./model_checkpoint is already existed !\n"
     ]
    }
   ],
   "source": [
    "model_dir = './model_checkpoint'\n",
    "if not os.path.exists(model_dir):\n",
    "    os.mkdir(model_dir)\n",
    "else: \n",
    "    print(f\"{model_dir} is already existed !\")"
   ]
  },
  {
   "cell_type": "code",
   "execution_count": 3,
   "id": "f6b05cc0",
   "metadata": {},
   "outputs": [],
   "source": [
    "# module will be auto-reloaded by default\n",
    "%load_ext autoreload\n",
    "%autoreload 2"
   ]
  },
  {
   "cell_type": "code",
   "execution_count": 4,
   "id": "00fc79e5",
   "metadata": {},
   "outputs": [],
   "source": [
    "import pandas as pd\n",
    "from IPython.display import display\n",
    "\n",
    "import copy\n",
    "import pickle\n",
    "pd.set_option('display.max_columns', 50)"
   ]
  },
  {
   "cell_type": "markdown",
   "id": "56335b24",
   "metadata": {},
   "source": [
    "# Load data"
   ]
  },
  {
   "cell_type": "code",
   "execution_count": 5,
   "id": "f69cbea6",
   "metadata": {},
   "outputs": [],
   "source": [
    "train_path = './data/trainset-281-29.xlsx'\n",
    "train_df = pd.read_excel(train_path)\n",
    "\n",
    "predict_path = './data/testset-for-participants.xlsx'\n",
    "predict_df = pd.read_excel(predict_path)"
   ]
  },
  {
   "cell_type": "markdown",
   "id": "5af67cab",
   "metadata": {},
   "source": [
    "# Missing data exploratory"
   ]
  },
  {
   "cell_type": "code",
   "execution_count": 6,
   "id": "17609141",
   "metadata": {},
   "outputs": [],
   "source": [
    "for df in [train_df, predict_df]:\n",
    "    for col in df.columns:\n",
    "        df[col] = df[col].apply(lambda x: None if str.lower(str(x)) in ['none', 'non', 'nan'] else x)"
   ]
  },
  {
   "cell_type": "code",
   "execution_count": 9,
   "id": "0b259353",
   "metadata": {},
   "outputs": [],
   "source": [
    "columns = ['feature_name', 'missing_num', 'type']\n",
    "\n",
    "train_agg = train_df.isnull().sum(axis=0).reset_index().sort_values(by=0)\n",
    "train_agg.rename(columns={0:\"predict_missing\"}, inplace=True)\n",
    "\n",
    "predict_agg = predict_df.isnull().sum(axis=0).reset_index().sort_values(by=0)\n",
    "predict_agg.rename(columns={0:\"predict_missing\"}, inplace=True)\n",
    "\n",
    "miss_agg = pd.merge(train_agg, predict_agg, on='index')"
   ]
  },
  {
   "cell_type": "code",
   "execution_count": 10,
   "id": "d4a2fc0f",
   "metadata": {},
   "outputs": [
    {
     "data": {
      "text/html": [
       "<div>\n",
       "<style scoped>\n",
       "    .dataframe tbody tr th:only-of-type {\n",
       "        vertical-align: middle;\n",
       "    }\n",
       "\n",
       "    .dataframe tbody tr th {\n",
       "        vertical-align: top;\n",
       "    }\n",
       "\n",
       "    .dataframe thead th {\n",
       "        text-align: right;\n",
       "    }\n",
       "</style>\n",
       "<table border=\"1\" class=\"dataframe\">\n",
       "  <thead>\n",
       "    <tr style=\"text-align: right;\">\n",
       "      <th></th>\n",
       "      <th>index</th>\n",
       "      <th>predict_missing</th>\n",
       "    </tr>\n",
       "  </thead>\n",
       "  <tbody>\n",
       "    <tr>\n",
       "      <th>0</th>\n",
       "      <td>TRAN_AMT</td>\n",
       "      <td>0</td>\n",
       "    </tr>\n",
       "    <tr>\n",
       "      <th>21</th>\n",
       "      <td>TRAN_TYPE_CD</td>\n",
       "      <td>0</td>\n",
       "    </tr>\n",
       "    <tr>\n",
       "      <th>20</th>\n",
       "      <td>ACTN_INTNL_TXT</td>\n",
       "      <td>0</td>\n",
       "    </tr>\n",
       "    <tr>\n",
       "      <th>19</th>\n",
       "      <td>ACTN_CD</td>\n",
       "      <td>0</td>\n",
       "    </tr>\n",
       "    <tr>\n",
       "      <th>18</th>\n",
       "      <td>TRAN_DT</td>\n",
       "      <td>0</td>\n",
       "    </tr>\n",
       "    <tr>\n",
       "      <th>17</th>\n",
       "      <td>TRAN_TS</td>\n",
       "      <td>0</td>\n",
       "    </tr>\n",
       "    <tr>\n",
       "      <th>16</th>\n",
       "      <td>CUST_SINCE_DT</td>\n",
       "      <td>0</td>\n",
       "    </tr>\n",
       "    <tr>\n",
       "      <th>13</th>\n",
       "      <td>CUST_ZIP</td>\n",
       "      <td>0</td>\n",
       "    </tr>\n",
       "    <tr>\n",
       "      <th>22</th>\n",
       "      <td>ACTVY_DT</td>\n",
       "      <td>0</td>\n",
       "    </tr>\n",
       "    <tr>\n",
       "      <th>11</th>\n",
       "      <td>AUTHC_PRIM_TYPE_CD</td>\n",
       "      <td>0</td>\n",
       "    </tr>\n",
       "    <tr>\n",
       "      <th>4</th>\n",
       "      <td>WF_dvc_age</td>\n",
       "      <td>0</td>\n",
       "    </tr>\n",
       "    <tr>\n",
       "      <th>3</th>\n",
       "      <td>OPEN_ACCT_CT</td>\n",
       "      <td>0</td>\n",
       "    </tr>\n",
       "    <tr>\n",
       "      <th>2</th>\n",
       "      <td>CUST_AGE</td>\n",
       "      <td>0</td>\n",
       "    </tr>\n",
       "    <tr>\n",
       "      <th>1</th>\n",
       "      <td>ACCT_PRE_TRAN_AVAIL_BAL</td>\n",
       "      <td>0</td>\n",
       "    </tr>\n",
       "    <tr>\n",
       "      <th>9</th>\n",
       "      <td>ALERT_TRGR_CD</td>\n",
       "      <td>0</td>\n",
       "    </tr>\n",
       "    <tr>\n",
       "      <th>23</th>\n",
       "      <td>FRAUD_NONFRAUD</td>\n",
       "      <td>0</td>\n",
       "    </tr>\n",
       "    <tr>\n",
       "      <th>14</th>\n",
       "      <td>CUST_STATE</td>\n",
       "      <td>36</td>\n",
       "    </tr>\n",
       "    <tr>\n",
       "      <th>12</th>\n",
       "      <td>AUTHC_SCNDRY_STAT_TXT</td>\n",
       "      <td>74</td>\n",
       "    </tr>\n",
       "    <tr>\n",
       "      <th>10</th>\n",
       "      <td>DVC_TYPE_TXT</td>\n",
       "      <td>1761</td>\n",
       "    </tr>\n",
       "    <tr>\n",
       "      <th>7</th>\n",
       "      <td>RGN_NAME</td>\n",
       "      <td>2709</td>\n",
       "    </tr>\n",
       "    <tr>\n",
       "      <th>6</th>\n",
       "      <td>CARR_NAME</td>\n",
       "      <td>2709</td>\n",
       "    </tr>\n",
       "    <tr>\n",
       "      <th>8</th>\n",
       "      <td>STATE_PRVNC_TXT</td>\n",
       "      <td>2716</td>\n",
       "    </tr>\n",
       "    <tr>\n",
       "      <th>5</th>\n",
       "      <td>PWD_UPDT_TS</td>\n",
       "      <td>3125</td>\n",
       "    </tr>\n",
       "    <tr>\n",
       "      <th>15</th>\n",
       "      <td>PH_NUM_UPDT_TS</td>\n",
       "      <td>7061</td>\n",
       "    </tr>\n",
       "  </tbody>\n",
       "</table>\n",
       "</div>"
      ],
      "text/plain": [
       "                      index  predict_missing\n",
       "0                  TRAN_AMT                0\n",
       "21             TRAN_TYPE_CD                0\n",
       "20           ACTN_INTNL_TXT                0\n",
       "19                  ACTN_CD                0\n",
       "18                  TRAN_DT                0\n",
       "17                  TRAN_TS                0\n",
       "16            CUST_SINCE_DT                0\n",
       "13                 CUST_ZIP                0\n",
       "22                 ACTVY_DT                0\n",
       "11       AUTHC_PRIM_TYPE_CD                0\n",
       "4                WF_dvc_age                0\n",
       "3              OPEN_ACCT_CT                0\n",
       "2                  CUST_AGE                0\n",
       "1   ACCT_PRE_TRAN_AVAIL_BAL                0\n",
       "9             ALERT_TRGR_CD                0\n",
       "23           FRAUD_NONFRAUD                0\n",
       "14               CUST_STATE               36\n",
       "12    AUTHC_SCNDRY_STAT_TXT               74\n",
       "10             DVC_TYPE_TXT             1761\n",
       "7                  RGN_NAME             2709\n",
       "6                 CARR_NAME             2709\n",
       "8           STATE_PRVNC_TXT             2716\n",
       "5               PWD_UPDT_TS             3125\n",
       "15           PH_NUM_UPDT_TS             7061"
      ]
     },
     "execution_count": 10,
     "metadata": {},
     "output_type": "execute_result"
    }
   ],
   "source": [
    "train_agg"
   ]
  },
  {
   "cell_type": "code",
   "execution_count": null,
   "id": "955846d7",
   "metadata": {},
   "outputs": [],
   "source": []
  }
 ],
 "metadata": {
  "kernelspec": {
   "display_name": "Python 3 (ipykernel)",
   "language": "python",
   "name": "python3"
  },
  "language_info": {
   "codemirror_mode": {
    "name": "ipython",
    "version": 3
   },
   "file_extension": ".py",
   "mimetype": "text/x-python",
   "name": "python",
   "nbconvert_exporter": "python",
   "pygments_lexer": "ipython3",
   "version": "3.7.12"
  }
 },
 "nbformat": 4,
 "nbformat_minor": 5
}

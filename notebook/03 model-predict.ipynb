{
 "cells": [
  {
   "cell_type": "code",
   "execution_count": 1,
   "id": "c449e145",
   "metadata": {},
   "outputs": [],
   "source": [
    "import os\n",
    "root_dir ='../'\n",
    "os.chdir(root_dir)"
   ]
  },
  {
   "cell_type": "code",
   "execution_count": 2,
   "id": "c93eb66b",
   "metadata": {},
   "outputs": [],
   "source": [
    "%load_ext autoreload\n",
    "%autoreload 2"
   ]
  },
  {
   "cell_type": "code",
   "execution_count": 3,
   "id": "5c507b0b",
   "metadata": {},
   "outputs": [],
   "source": [
    "model_dir = './model_checkpoint'"
   ]
  },
  {
   "cell_type": "markdown",
   "id": "62016e9f",
   "metadata": {},
   "source": [
    "### load package"
   ]
  },
  {
   "cell_type": "code",
   "execution_count": 4,
   "id": "f8b900cc",
   "metadata": {},
   "outputs": [],
   "source": [
    "import pandas as pd\n",
    "import pickle\n",
    "import copy"
   ]
  },
  {
   "cell_type": "code",
   "execution_count": 5,
   "id": "bfd389c1",
   "metadata": {},
   "outputs": [],
   "source": [
    "pd.set_option('display.max_columns', 50)"
   ]
  },
  {
   "cell_type": "markdown",
   "id": "e77e3edc",
   "metadata": {},
   "source": [
    "### load training dataset"
   ]
  },
  {
   "cell_type": "code",
   "execution_count": 6,
   "id": "51585caa",
   "metadata": {},
   "outputs": [],
   "source": [
    "test_path ='./data/testset-for-participants.xlsx'\n",
    "test_df = pd.read_excel(test_path)"
   ]
  },
  {
   "cell_type": "markdown",
   "id": "0b119d21",
   "metadata": {},
   "source": [
    "### feature processing"
   ]
  },
  {
   "cell_type": "code",
   "execution_count": 7,
   "id": "8c82656b",
   "metadata": {},
   "outputs": [],
   "source": [
    "from data_processing import processing\n",
    "\n",
    "p_conn =processing.processing()"
   ]
  },
  {
   "cell_type": "markdown",
   "id": "31cfc855",
   "metadata": {},
   "source": [
    "#### missing value"
   ]
  },
  {
   "cell_type": "code",
   "execution_count": 8,
   "id": "1a2521ba",
   "metadata": {},
   "outputs": [],
   "source": [
    "missing_value =-999\n",
    "missing_label ='missing'"
   ]
  },
  {
   "cell_type": "code",
   "execution_count": 9,
   "id": "e9c9da58",
   "metadata": {},
   "outputs": [],
   "source": [
    "for col in test_df.columns:\n",
    "    test_df[col] =test_df[col].apply(lambda x : None if str.lower(str(x)) in ['none','non','nan'] else x)"
   ]
  },
  {
   "cell_type": "code",
   "execution_count": 10,
   "id": "9042781d",
   "metadata": {},
   "outputs": [],
   "source": [
    "test_df.fillna(-999,inplace=True)"
   ]
  },
  {
   "cell_type": "markdown",
   "id": "b99e1d53",
   "metadata": {},
   "source": [
    "#### discrete features -more than 10"
   ]
  },
  {
   "cell_type": "code",
   "execution_count": 11,
   "id": "12f60f0c",
   "metadata": {},
   "outputs": [],
   "source": [
    "discrete_cols_over_10 =['CARR_NAME','RGN_NAME','STATE_PRVNC_TXT','CUST_STATE']"
   ]
  },
  {
   "cell_type": "code",
   "execution_count": 12,
   "id": "9cdb48c3",
   "metadata": {},
   "outputs": [],
   "source": [
    "risk_map =pickle.load(open(f\"{model_dir}/risk_map.pkl\", \"rb\"))"
   ]
  },
  {
   "cell_type": "code",
   "execution_count": 13,
   "id": "0330d3f7",
   "metadata": {},
   "outputs": [
    {
     "name": "stdout",
     "output_type": "stream",
     "text": [
      "...CARR_NAME\n",
      "...RGN_NAME\n",
      "...STATE_PRVNC_TXT\n",
      "...CUST_STATE\n"
     ]
    }
   ],
   "source": [
    "# reduce dimension with risk ratio\n",
    "for idx,col in enumerate(discrete_cols_over_10):\n",
    "    print(f\"...{col}\")\n",
    "    target_col = f\"{col}_bin_10_feature\"\n",
    "    value_map =risk_map[col]\n",
    "    test_df[target_col] = test_df[col].apply(lambda x : value_map.get(x) if x in value_map.keys() else missing_label)"
   ]
  },
  {
   "cell_type": "markdown",
   "id": "9f6cb965",
   "metadata": {},
   "source": [
    "####  discrete features -less than 10\n",
    "\n",
    "    none treatment"
   ]
  },
  {
   "cell_type": "markdown",
   "id": "b38ee534",
   "metadata": {},
   "source": [
    "#### datetime formate features"
   ]
  },
  {
   "cell_type": "code",
   "execution_count": 14,
   "id": "965d24ef",
   "metadata": {},
   "outputs": [],
   "source": [
    "ts_cols =['PWD_UPDT_TS','PH_NUM_UPDT_TS', 'TRAN_TS']"
   ]
  },
  {
   "cell_type": "markdown",
   "id": "3baf2c54",
   "metadata": {},
   "source": [
    "##### operating hour "
   ]
  },
  {
   "cell_type": "code",
   "execution_count": 15,
   "id": "36adc550",
   "metadata": {},
   "outputs": [],
   "source": [
    "for idx,col in enumerate(ts_cols):\n",
    "    target_col = f\"{col}_hour\"\n",
    "    test_df = p_conn.operate_hour(test_df,col)"
   ]
  },
  {
   "cell_type": "markdown",
   "id": "e7e3c897",
   "metadata": {},
   "source": [
    "##### gap between updating operation, like passwaor or phone number,and transaction "
   ]
  },
  {
   "cell_type": "code",
   "execution_count": 16,
   "id": "18abaecf",
   "metadata": {},
   "outputs": [],
   "source": [
    "test_df['PWD_UPDT_TS_day'] = test_df.apply(lambda x : p_conn.timedelta_day(x.TRAN_TS,x.PWD_UPDT_TS),axis =1)    \n",
    "test_df['PH_NUM_UPDT_TS_day'] = test_df.apply(lambda x : p_conn.timedelta_day(x.TRAN_TS,x.PH_NUM_UPDT_TS),axis =1)    "
   ]
  },
  {
   "cell_type": "markdown",
   "id": "c33862d0",
   "metadata": {},
   "source": [
    "### feature label to idx"
   ]
  },
  {
   "cell_type": "code",
   "execution_count": 17,
   "id": "419d6249",
   "metadata": {},
   "outputs": [],
   "source": [
    "txt_value_idx_map =pickle.load(open(f'{model_dir}/txt_value_idx_map.pkl','rb'))"
   ]
  },
  {
   "cell_type": "code",
   "execution_count": 18,
   "id": "d397fcf4",
   "metadata": {},
   "outputs": [],
   "source": [
    "discrete_features =['CARR_NAME_bin_10_feature','PH_NUM_UPDT_TS_hour','RGN_NAME_bin_10_feature',\n",
    "                   'STATE_PRVNC_TXT_bin_10_feature','PWD_UPDT_TS_hour','PH_NUM_UPDT_TS_day','DVC_TYPE_TXT']\n",
    "\n",
    "continuous_features =['ACCT_PRE_TRAN_AVAIL_BAL','TRAN_AMT','OPEN_ACCT_CT','WF_dvc_age',]\n",
    "\n",
    "\n",
    "filterd_features = discrete_features+continuous_features"
   ]
  },
  {
   "cell_type": "code",
   "execution_count": 19,
   "id": "51826660",
   "metadata": {},
   "outputs": [
    {
     "name": "stdout",
     "output_type": "stream",
     "text": [
      "CARR_NAME_bin_10_feature\n",
      "PH_NUM_UPDT_TS_hour\n",
      "RGN_NAME_bin_10_feature\n",
      "STATE_PRVNC_TXT_bin_10_feature\n",
      "PWD_UPDT_TS_hour\n",
      "PH_NUM_UPDT_TS_day\n",
      "DVC_TYPE_TXT\n"
     ]
    }
   ],
   "source": [
    "for col in discrete_features:\n",
    "    print(col)\n",
    "    test_df[col] = test_df[col].apply(lambda x : txt_value_idx_map[x])"
   ]
  },
  {
   "cell_type": "markdown",
   "id": "3b41b736",
   "metadata": {},
   "source": [
    "### model predict"
   ]
  },
  {
   "cell_type": "code",
   "execution_count": 20,
   "id": "2739e3c0",
   "metadata": {},
   "outputs": [],
   "source": [
    "xgb_model = pickle.load(open(f\"{model_dir}/bst.pkl\",'rb'))"
   ]
  },
  {
   "cell_type": "code",
   "execution_count": 21,
   "id": "f9e4b5ce",
   "metadata": {},
   "outputs": [],
   "source": [
    "idx2label_map ={1:'Fraud',0:'Non-Fraud'}\n",
    "\n",
    "label2requirement ={'Fraud':0,'Non-Fraud':1}"
   ]
  },
  {
   "cell_type": "code",
   "execution_count": 22,
   "id": "78bb817a",
   "metadata": {},
   "outputs": [],
   "source": [
    "predict_y = xgb_model.predict(test_df[filterd_features])\n",
    "predict_y = [idx2label_map[i] for i in predict_y]\n",
    "predict_y = [label2requirement[i] for i in predict_y]\n",
    "\n",
    "test_df['FRAUD_NONFRAUD'] =predict_y"
   ]
  },
  {
   "cell_type": "code",
   "execution_count": 23,
   "id": "c7c588bd",
   "metadata": {},
   "outputs": [],
   "source": [
    "# based on the statistical result from train set,bad-case in PH_NUM_UPDT_TS_hour and PH_NUM_UPDT_TS_hour will definitely cause fraud\n",
    "test_df.loc[(test_df['PH_NUM_UPDT_TS_hour'] ==txt_value_idx_map['bad-case']) |\n",
    "           (test_df['PWD_UPDT_TS_hour'] ==txt_value_idx_map['bad-case']),'FRAUD_NONFRAUD']=0"
   ]
  },
  {
   "cell_type": "code",
   "execution_count": 24,
   "id": "7a297340",
   "metadata": {
    "scrolled": false
   },
   "outputs": [
    {
     "data": {
      "text/plain": [
       "1    4141\n",
       "0    1859\n",
       "Name: FRAUD_NONFRAUD, dtype: int64"
      ]
     },
     "execution_count": 24,
     "metadata": {},
     "output_type": "execute_result"
    }
   ],
   "source": [
    "test_df['FRAUD_NONFRAUD'].value_counts()"
   ]
  },
  {
   "cell_type": "code",
   "execution_count": 25,
   "id": "64ee942e",
   "metadata": {},
   "outputs": [],
   "source": [
    "test_df[['dataset_id','FRAUD_NONFRAUD']].to_csv('predict_result.csv',index=False)"
   ]
  }
 ],
 "metadata": {
  "kernelspec": {
   "display_name": "Python 3",
   "language": "python",
   "name": "python3"
  },
  "language_info": {
   "codemirror_mode": {
    "name": "ipython",
    "version": 3
   },
   "file_extension": ".py",
   "mimetype": "text/x-python",
   "name": "python",
   "nbconvert_exporter": "python",
   "pygments_lexer": "ipython3",
   "version": "3.8.2"
  }
 },
 "nbformat": 4,
 "nbformat_minor": 5
}
